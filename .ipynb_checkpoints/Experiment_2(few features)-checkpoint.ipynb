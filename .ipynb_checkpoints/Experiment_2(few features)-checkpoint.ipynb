{
 "cells": [
  {
   "cell_type": "code",
   "execution_count": 1,
   "metadata": {},
   "outputs": [],
   "source": [
    "import numpy as np \n",
    "import pandas as pd \n",
    "import seaborn as sns\n",
    "import matplotlib.pyplot as plt\n",
    "%matplotlib inline\n",
    "from matplotlib.pyplot import figure\n",
    "from matplotlib.pyplot import suptitle\n",
    "import matplotlib.style as style\n",
    "from IPython.display import display, HTML\n",
    "import warnings\n",
    "%config InlineBackend.figure_format = 'png' #set 'png' here when working on notebook\n",
    "warnings.filterwarnings('ignore') \n",
    "\n",
    "# Set some parameters to get good visuals - style to ggplot and size to 15,10\n",
    "\n",
    "pd.set_option('display.width',170, 'display.max_rows',200, 'display.max_columns',900)"
   ]
  },
  {
   "cell_type": "code",
   "execution_count": 2,
   "metadata": {},
   "outputs": [],
   "source": [
    "df = pd.read_csv(\"/Users/pvaish10/Desktop/TADPOLE_D1_D2.csv\")"
   ]
  },
  {
   "cell_type": "code",
   "execution_count": 3,
   "metadata": {},
   "outputs": [],
   "source": [
    "df1 = df[['RID', 'PTID', 'VISCODE','D1', 'D2','DX','EXAMDATE','Years_bl','Month','AGE', 'PTGENDER', 'PTEDUCAT', 'PTETHCAT', 'PTRACCAT', 'PTMARRY', 'APOE4', 'FDG','AV45',\n",
    "         'CDRSB','ADAS11','MMSE', 'RAVLT_immediate','Hippocampus', 'WholeBrain','Entorhinal', 'MidTemp','ABETA_UPENNBIOMK9_04_19_17',\n",
    "         'TAU_UPENNBIOMK9_04_19_17','PTAU_UPENNBIOMK9_04_19_17']]"
   ]
  },
  {
   "cell_type": "code",
   "execution_count": 5,
   "metadata": {},
   "outputs": [
    {
     "data": {
      "text/html": [
       "<div>\n",
       "<style scoped>\n",
       "    .dataframe tbody tr th:only-of-type {\n",
       "        vertical-align: middle;\n",
       "    }\n",
       "\n",
       "    .dataframe tbody tr th {\n",
       "        vertical-align: top;\n",
       "    }\n",
       "\n",
       "    .dataframe thead th {\n",
       "        text-align: right;\n",
       "    }\n",
       "</style>\n",
       "<table border=\"1\" class=\"dataframe\">\n",
       "  <thead>\n",
       "    <tr style=\"text-align: right;\">\n",
       "      <th></th>\n",
       "      <th>RID</th>\n",
       "      <th>PTID</th>\n",
       "      <th>VISCODE</th>\n",
       "      <th>D1</th>\n",
       "      <th>D2</th>\n",
       "      <th>DX</th>\n",
       "      <th>EXAMDATE</th>\n",
       "      <th>Years_bl</th>\n",
       "      <th>Month</th>\n",
       "      <th>AGE</th>\n",
       "      <th>PTGENDER</th>\n",
       "      <th>PTEDUCAT</th>\n",
       "      <th>PTETHCAT</th>\n",
       "      <th>PTRACCAT</th>\n",
       "      <th>PTMARRY</th>\n",
       "      <th>APOE4</th>\n",
       "      <th>FDG</th>\n",
       "      <th>AV45</th>\n",
       "      <th>CDRSB</th>\n",
       "      <th>ADAS11</th>\n",
       "      <th>MMSE</th>\n",
       "      <th>RAVLT_immediate</th>\n",
       "      <th>Hippocampus</th>\n",
       "      <th>WholeBrain</th>\n",
       "      <th>Entorhinal</th>\n",
       "      <th>MidTemp</th>\n",
       "      <th>ABETA_UPENNBIOMK9_04_19_17</th>\n",
       "      <th>TAU_UPENNBIOMK9_04_19_17</th>\n",
       "      <th>PTAU_UPENNBIOMK9_04_19_17</th>\n",
       "    </tr>\n",
       "  </thead>\n",
       "  <tbody>\n",
       "    <tr>\n",
       "      <th>0</th>\n",
       "      <td>2</td>\n",
       "      <td>011_S_0002</td>\n",
       "      <td>bl</td>\n",
       "      <td>1</td>\n",
       "      <td>1</td>\n",
       "      <td>NL</td>\n",
       "      <td>2005-09-08</td>\n",
       "      <td>0.0</td>\n",
       "      <td>0</td>\n",
       "      <td>74.3</td>\n",
       "      <td>Male</td>\n",
       "      <td>16</td>\n",
       "      <td>Not Hisp/Latino</td>\n",
       "      <td>White</td>\n",
       "      <td>Married</td>\n",
       "      <td>0.0</td>\n",
       "      <td>1.36926</td>\n",
       "      <td>NaN</td>\n",
       "      <td>0.0</td>\n",
       "      <td>10.67</td>\n",
       "      <td>28.0</td>\n",
       "      <td>44.0</td>\n",
       "      <td>8336.0</td>\n",
       "      <td>1229740.0</td>\n",
       "      <td>4177.0</td>\n",
       "      <td>27936.0</td>\n",
       "      <td></td>\n",
       "      <td></td>\n",
       "      <td></td>\n",
       "    </tr>\n",
       "  </tbody>\n",
       "</table>\n",
       "</div>"
      ],
      "text/plain": [
       "   RID        PTID VISCODE  D1  D2  DX    EXAMDATE  Years_bl  Month   AGE PTGENDER  PTEDUCAT         PTETHCAT PTRACCAT  PTMARRY  APOE4      FDG  AV45  CDRSB  ADAS11  \\\n",
       "0    2  011_S_0002      bl   1   1  NL  2005-09-08       0.0      0  74.3     Male        16  Not Hisp/Latino    White  Married    0.0  1.36926   NaN    0.0   10.67   \n",
       "\n",
       "   MMSE  RAVLT_immediate  Hippocampus  WholeBrain  Entorhinal  MidTemp ABETA_UPENNBIOMK9_04_19_17 TAU_UPENNBIOMK9_04_19_17 PTAU_UPENNBIOMK9_04_19_17  \n",
       "0  28.0             44.0       8336.0   1229740.0      4177.0  27936.0                                                                                "
      ]
     },
     "execution_count": 5,
     "metadata": {},
     "output_type": "execute_result"
    }
   ],
   "source": [
    "df1.head(1)"
   ]
  },
  {
   "cell_type": "markdown",
   "metadata": {},
   "source": [
    "#### Select rows which have a DX value"
   ]
  },
  {
   "cell_type": "code",
   "execution_count": 6,
   "metadata": {},
   "outputs": [],
   "source": [
    "df2 = df1.loc[df1['DX'].notnull()]"
   ]
  },
  {
   "cell_type": "markdown",
   "metadata": {},
   "source": [
    "#### Make only three categories"
   ]
  },
  {
   "cell_type": "code",
   "execution_count": 7,
   "metadata": {},
   "outputs": [],
   "source": [
    "df2 = df2.replace({'NL to MCI': 'MCI', 'MCI to Dementia': 'Dementia', 'MCI to NL' : 'NL', 'NL to Dementia': 'Dementia', 'Dementia to MCI': 'MCI'})"
   ]
  },
  {
   "cell_type": "code",
   "execution_count": 8,
   "metadata": {},
   "outputs": [
    {
     "data": {
      "text/plain": [
       "MCI         4052\n",
       "NL          2745\n",
       "Dementia    2107\n",
       "Name: DX, dtype: int64"
      ]
     },
     "execution_count": 8,
     "metadata": {},
     "output_type": "execute_result"
    }
   ],
   "source": [
    "df2['DX'].value_counts()"
   ]
  },
  {
   "cell_type": "markdown",
   "metadata": {},
   "source": [
    "#### Update the age as per the exam and diagnosis"
   ]
  },
  {
   "cell_type": "code",
   "execution_count": 9,
   "metadata": {},
   "outputs": [],
   "source": [
    "df2['AGE_UPDATED'] = np.round(df2['AGE'] + df2['Years_bl'], 2)"
   ]
  },
  {
   "cell_type": "code",
   "execution_count": 13,
   "metadata": {},
   "outputs": [
    {
     "data": {
      "text/plain": [
       "Index(['RID', 'PTID', 'VISCODE', 'D1', 'D2', 'DX', 'EXAMDATE', 'Years_bl', 'Month', 'AGE', 'PTGENDER', 'PTEDUCAT', 'PTETHCAT', 'PTRACCAT', 'PTMARRY', 'APOE4', 'FDG',\n",
       "       'AV45', 'CDRSB', 'ADAS11', 'MMSE', 'RAVLT_immediate', 'Hippocampus', 'WholeBrain', 'Entorhinal', 'MidTemp', 'ABETA_UPENNBIOMK9_04_19_17',\n",
       "       'TAU_UPENNBIOMK9_04_19_17', 'PTAU_UPENNBIOMK9_04_19_17', 'AGE_UPDATED'],\n",
       "      dtype='object')"
      ]
     },
     "execution_count": 13,
     "metadata": {},
     "output_type": "execute_result"
    }
   ],
   "source": [
    "df2.columns"
   ]
  },
  {
   "cell_type": "markdown",
   "metadata": {},
   "source": [
    "#### How many examples are there"
   ]
  },
  {
   "cell_type": "code",
   "execution_count": 10,
   "metadata": {},
   "outputs": [
    {
     "data": {
      "text/plain": [
       "(8841,)"
      ]
     },
     "execution_count": 10,
     "metadata": {},
     "output_type": "execute_result"
    }
   ],
   "source": [
    "df2['D1'][df2['D1'] == 1].shape"
   ]
  },
  {
   "cell_type": "code",
   "execution_count": 11,
   "metadata": {},
   "outputs": [
    {
     "data": {
      "text/plain": [
       "(63,)"
      ]
     },
     "execution_count": 11,
     "metadata": {},
     "output_type": "execute_result"
    }
   ],
   "source": [
    "df2['D1'][df2['D1'] == 0].shape"
   ]
  },
  {
   "cell_type": "code",
   "execution_count": 12,
   "metadata": {},
   "outputs": [
    {
     "data": {
      "text/plain": [
       "(5177,)"
      ]
     },
     "execution_count": 12,
     "metadata": {},
     "output_type": "execute_result"
    }
   ],
   "source": [
    "df2['D2'][df2['D2'] == 1].shape"
   ]
  },
  {
   "cell_type": "code",
   "execution_count": 13,
   "metadata": {},
   "outputs": [
    {
     "data": {
      "text/plain": [
       "(3727,)"
      ]
     },
     "execution_count": 13,
     "metadata": {},
     "output_type": "execute_result"
    }
   ],
   "source": [
    "df2['D2'][df2['D2'] == 0].shape"
   ]
  },
  {
   "cell_type": "code",
   "execution_count": 14,
   "metadata": {},
   "outputs": [
    {
     "data": {
      "text/html": [
       "<div>\n",
       "<style scoped>\n",
       "    .dataframe tbody tr th:only-of-type {\n",
       "        vertical-align: middle;\n",
       "    }\n",
       "\n",
       "    .dataframe tbody tr th {\n",
       "        vertical-align: top;\n",
       "    }\n",
       "\n",
       "    .dataframe thead th {\n",
       "        text-align: right;\n",
       "    }\n",
       "</style>\n",
       "<table border=\"1\" class=\"dataframe\">\n",
       "  <thead>\n",
       "    <tr style=\"text-align: right;\">\n",
       "      <th></th>\n",
       "      <th>RID</th>\n",
       "      <th>PTID</th>\n",
       "      <th>VISCODE</th>\n",
       "      <th>D1</th>\n",
       "      <th>D2</th>\n",
       "      <th>DX</th>\n",
       "      <th>EXAMDATE</th>\n",
       "      <th>Years_bl</th>\n",
       "      <th>Month</th>\n",
       "      <th>AGE</th>\n",
       "      <th>PTGENDER</th>\n",
       "      <th>PTEDUCAT</th>\n",
       "      <th>PTETHCAT</th>\n",
       "      <th>PTRACCAT</th>\n",
       "      <th>PTMARRY</th>\n",
       "      <th>APOE4</th>\n",
       "      <th>FDG</th>\n",
       "      <th>AV45</th>\n",
       "      <th>CDRSB</th>\n",
       "      <th>ADAS11</th>\n",
       "      <th>MMSE</th>\n",
       "      <th>RAVLT_immediate</th>\n",
       "      <th>Hippocampus</th>\n",
       "      <th>WholeBrain</th>\n",
       "      <th>Entorhinal</th>\n",
       "      <th>MidTemp</th>\n",
       "      <th>ABETA_UPENNBIOMK9_04_19_17</th>\n",
       "      <th>TAU_UPENNBIOMK9_04_19_17</th>\n",
       "      <th>PTAU_UPENNBIOMK9_04_19_17</th>\n",
       "      <th>AGE_UPDATED</th>\n",
       "    </tr>\n",
       "  </thead>\n",
       "  <tbody>\n",
       "    <tr>\n",
       "      <th>0</th>\n",
       "      <td>2</td>\n",
       "      <td>011_S_0002</td>\n",
       "      <td>bl</td>\n",
       "      <td>1</td>\n",
       "      <td>1</td>\n",
       "      <td>NL</td>\n",
       "      <td>2005-09-08</td>\n",
       "      <td>0.0</td>\n",
       "      <td>0</td>\n",
       "      <td>74.3</td>\n",
       "      <td>Male</td>\n",
       "      <td>16</td>\n",
       "      <td>Not Hisp/Latino</td>\n",
       "      <td>White</td>\n",
       "      <td>Married</td>\n",
       "      <td>0.0</td>\n",
       "      <td>1.36926</td>\n",
       "      <td>NaN</td>\n",
       "      <td>0.0</td>\n",
       "      <td>10.67</td>\n",
       "      <td>28.0</td>\n",
       "      <td>44.0</td>\n",
       "      <td>8336.0</td>\n",
       "      <td>1229740.0</td>\n",
       "      <td>4177.0</td>\n",
       "      <td>27936.0</td>\n",
       "      <td></td>\n",
       "      <td></td>\n",
       "      <td></td>\n",
       "      <td>74.3</td>\n",
       "    </tr>\n",
       "  </tbody>\n",
       "</table>\n",
       "</div>"
      ],
      "text/plain": [
       "   RID        PTID VISCODE  D1  D2  DX    EXAMDATE  Years_bl  Month   AGE PTGENDER  PTEDUCAT         PTETHCAT PTRACCAT  PTMARRY  APOE4      FDG  AV45  CDRSB  ADAS11  \\\n",
       "0    2  011_S_0002      bl   1   1  NL  2005-09-08       0.0      0  74.3     Male        16  Not Hisp/Latino    White  Married    0.0  1.36926   NaN    0.0   10.67   \n",
       "\n",
       "   MMSE  RAVLT_immediate  Hippocampus  WholeBrain  Entorhinal  MidTemp ABETA_UPENNBIOMK9_04_19_17 TAU_UPENNBIOMK9_04_19_17 PTAU_UPENNBIOMK9_04_19_17  AGE_UPDATED  \n",
       "0  28.0             44.0       8336.0   1229740.0      4177.0  27936.0                                                                                       74.3  "
      ]
     },
     "execution_count": 14,
     "metadata": {},
     "output_type": "execute_result"
    }
   ],
   "source": [
    "df2.head(1)"
   ]
  },
  {
   "cell_type": "markdown",
   "metadata": {},
   "source": [
    "### Select the columns"
   ]
  },
  {
   "cell_type": "code",
   "execution_count": 15,
   "metadata": {},
   "outputs": [
    {
     "data": {
      "text/plain": [
       "Index(['RID', 'PTID', 'VISCODE', 'D1', 'D2', 'DX', 'EXAMDATE', 'Years_bl', 'Month', 'AGE', 'PTGENDER', 'PTEDUCAT', 'PTETHCAT', 'PTRACCAT', 'PTMARRY', 'APOE4', 'FDG',\n",
       "       'AV45', 'CDRSB', 'ADAS11', 'MMSE', 'RAVLT_immediate', 'Hippocampus', 'WholeBrain', 'Entorhinal', 'MidTemp', 'ABETA_UPENNBIOMK9_04_19_17',\n",
       "       'TAU_UPENNBIOMK9_04_19_17', 'PTAU_UPENNBIOMK9_04_19_17', 'AGE_UPDATED'],\n",
       "      dtype='object')"
      ]
     },
     "execution_count": 15,
     "metadata": {},
     "output_type": "execute_result"
    }
   ],
   "source": [
    "df2.columns"
   ]
  },
  {
   "cell_type": "code",
   "execution_count": 37,
   "metadata": {},
   "outputs": [],
   "source": [
    "df2['ABETA_UPENNBIOMK9_04_19_17'] = pd.to_numeric(df2['ABETA_UPENNBIOMK9_04_19_17'], errors='coerce')\n",
    "df2['TAU_UPENNBIOMK9_04_19_17'] = pd.to_numeric(df2['TAU_UPENNBIOMK9_04_19_17'], errors='coerce')\n",
    "df2['PTAU_UPENNBIOMK9_04_19_17'] = pd.to_numeric(df2['PTAU_UPENNBIOMK9_04_19_17'], errors='coerce')"
   ]
  },
  {
   "cell_type": "code",
   "execution_count": 38,
   "metadata": {},
   "outputs": [],
   "source": [
    "df3 = df2[['D1', 'D2', 'DX',  'PTGENDER', 'PTEDUCAT', 'APOE4', 'FDG',\n",
    "       'AV45', 'CDRSB', 'ADAS11', 'MMSE', 'RAVLT_immediate', 'Hippocampus', 'WholeBrain', 'Entorhinal', 'MidTemp', 'ABETA_UPENNBIOMK9_04_19_17',\n",
    "       'TAU_UPENNBIOMK9_04_19_17', 'PTAU_UPENNBIOMK9_04_19_17', 'AGE_UPDATED']]"
   ]
  },
  {
   "cell_type": "code",
   "execution_count": 39,
   "metadata": {},
   "outputs": [],
   "source": [
    "df3 = df3.replace({'NL': 1 , 'MCI': 2, 'Dementia': 3})"
   ]
  },
  {
   "cell_type": "code",
   "execution_count": 40,
   "metadata": {},
   "outputs": [],
   "source": [
    "categorial_cols = [\n",
    "    'PTGENDER']\n",
    "\n",
    "for cc in categorial_cols:\n",
    "    dummies = pd.get_dummies(df3[cc])\n",
    "    dummies = dummies.add_prefix(\"{}#\".format(cc))\n",
    "    df3.drop(cc, axis=1, inplace=True)\n",
    "    df3 = df3.join(dummies)"
   ]
  },
  {
   "cell_type": "code",
   "execution_count": 41,
   "metadata": {},
   "outputs": [
    {
     "data": {
      "text/plain": [
       "Index(['D1', 'D2', 'DX', 'PTEDUCAT', 'APOE4', 'FDG', 'AV45', 'CDRSB', 'ADAS11', 'MMSE', 'RAVLT_immediate', 'Hippocampus', 'WholeBrain', 'Entorhinal', 'MidTemp',\n",
       "       'ABETA_UPENNBIOMK9_04_19_17', 'TAU_UPENNBIOMK9_04_19_17', 'PTAU_UPENNBIOMK9_04_19_17', 'AGE_UPDATED', 'PTGENDER#Female', 'PTGENDER#Male'],\n",
       "      dtype='object')"
      ]
     },
     "execution_count": 41,
     "metadata": {},
     "output_type": "execute_result"
    }
   ],
   "source": [
    "df3.columns"
   ]
  },
  {
   "cell_type": "code",
   "execution_count": 42,
   "metadata": {},
   "outputs": [],
   "source": [
    "predictors = ['D1', 'D2','PTEDUCAT', 'APOE4', 'FDG', 'AV45', 'CDRSB', 'ADAS11', 'MMSE', 'RAVLT_immediate', 'Hippocampus', 'WholeBrain', 'Entorhinal', 'MidTemp',\n",
    "       'ABETA_UPENNBIOMK9_04_19_17', 'TAU_UPENNBIOMK9_04_19_17', 'PTAU_UPENNBIOMK9_04_19_17', 'AGE_UPDATED', 'PTGENDER#Female', 'PTGENDER#Male']\n"
   ]
  },
  {
   "cell_type": "code",
   "execution_count": 56,
   "metadata": {},
   "outputs": [],
   "source": [
    "train_X = df3[predictors][df3['D1'] == 1]\n",
    "test_X = df3[predictors][df3['D2'] == 1]\n",
    "train_y = df3.DX[df3['D1'] == 1]\n",
    "test_y = df3.DX[df3['D2'] == 1]"
   ]
  },
  {
   "cell_type": "code",
   "execution_count": 78,
   "metadata": {},
   "outputs": [],
   "source": [
    "from sklearn.pipeline import make_pipeline\n",
    "from sklearn.impute import SimpleImputer\n",
    "from sklearn.preprocessing import Imputer\n",
    "from sklearn.metrics import mean_absolute_error\n",
    "from sklearn.tree import DecisionTreeClassifier\n",
    "from sklearn.ensemble import RandomForestClassifier\n",
    "from xgboost import XGBClassifier"
   ]
  },
  {
   "cell_type": "code",
   "execution_count": 79,
   "metadata": {},
   "outputs": [],
   "source": [
    "#!pip install xgboost"
   ]
  },
  {
   "cell_type": "code",
   "execution_count": 80,
   "metadata": {},
   "outputs": [],
   "source": [
    "#Impute missing values after train test split\n",
    "my_imputer = SimpleImputer()\n",
    "train_X_imputed = pd.DataFrame(my_imputer.fit_transform(train_X.values))\n",
    "test_X_imputed = pd.DataFrame(my_imputer.fit_transform(test_X.values))\n"
   ]
  },
  {
   "cell_type": "code",
   "execution_count": 81,
   "metadata": {},
   "outputs": [],
   "source": [
    "from sklearn.metrics import roc_auc_score\n",
    "def multiclass_roc_dict(y_test,y_pred):\n",
    "    #creating a set of all the unique classes using the actual class list\n",
    "    unique_class = set(y_test.values)\n",
    "    roc_auc_dict = {}\n",
    "    for per_class in unique_class:\n",
    "        #creating a list of all the classes except the current class \n",
    "        other_class = [x for x in unique_class if x != per_class]\n",
    "\n",
    "        #marking the current class as 1 and all other classes as 0\n",
    "        new_actual_class = [0 if x in other_class else 1 for x in y_test]\n",
    "        new_pred_class = [0 if x in other_class else 1 for x in y_pred]\n",
    "\n",
    "        #using the sklearn metrics method to calculate the roc_auc_score\n",
    "        roc_auc = roc_auc_score(new_actual_class, new_pred_class, average = 'macro')\n",
    "        roc_auc_dict[per_class] = roc_auc\n",
    "    return roc_auc_dict"
   ]
  },
  {
   "cell_type": "code",
   "execution_count": 82,
   "metadata": {},
   "outputs": [],
   "source": [
    "# Decision Tree\n",
    "def get_multiclass_roc_dict(max_leaf_nodes, train_X, test_X, train_y, test_y):\n",
    "    model = DecisionTreeClassifier(max_leaf_nodes=max_leaf_nodes, random_state=0)\n",
    "    model.fit(train_X, train_y)\n",
    "    preds_y = model.predict(test_X)\n",
    "    multiclass_roc = multiclass_roc_dict(test_y, preds_y)\n",
    "    return(multiclass_roc)"
   ]
  },
  {
   "cell_type": "code",
   "execution_count": 83,
   "metadata": {},
   "outputs": [
    {
     "name": "stdout",
     "output_type": "stream",
     "text": [
      "Decision Tree results with different number of leaf nodes:\n",
      "Max leaf nodes: 5\n",
      "{1: 0.9050928183064011, 2: 0.8619651786814209, 3: 0.9364283293798712}\n",
      "Max leaf nodes: 50\n",
      "{1: 0.9217754715682117, 2: 0.8894242384555859, 3: 0.9059625239455321}\n",
      "Max leaf nodes: 500\n",
      "{1: 0.9510805515671277, 2: 0.9396453850450367, 3: 0.9606714085159649}\n",
      "Max leaf nodes: 5000\n",
      "{1: 0.9660217614995229, 2: 0.9592781250261632, 3: 0.9799362374566907}\n",
      "Max leaf nodes: 50000\n",
      "{1: 0.9660217614995229, 2: 0.9592781250261632, 3: 0.9799362374566907}\n"
     ]
    }
   ],
   "source": [
    "print(\"Decision Tree results with different number of leaf nodes:\")\n",
    "for max_leaf_nodes in [5, 50, 500, 5000,50000]:\n",
    "    my_multiclass_roc_dict = get_multiclass_roc_dict(max_leaf_nodes, train_X_imputed, test_X_imputed, train_y, test_y)\n",
    "    print(\"Max leaf nodes: %d\" %(max_leaf_nodes))\n",
    "    print(my_multiclass_roc_dict)"
   ]
  },
  {
   "cell_type": "code",
   "execution_count": 85,
   "metadata": {},
   "outputs": [
    {
     "name": "stdout",
     "output_type": "stream",
     "text": [
      "Random Forest Results\n",
      "{1: 0.9613253941378469, 2: 0.9443448995750493, 3: 0.9367791271032303}\n"
     ]
    }
   ],
   "source": [
    "# Random Forest\n",
    "forest_model = RandomForestClassifier(random_state=99)\n",
    "forest_model.fit(train_X_imputed, train_y)\n",
    "preds_y = forest_model.predict(test_X_imputed)\n",
    "print(\"Random Forest Results\")\n",
    "print(multiclass_roc_dict(test_y, preds_y))"
   ]
  },
  {
   "cell_type": "code",
   "execution_count": 86,
   "metadata": {},
   "outputs": [
    {
     "name": "stdout",
     "output_type": "stream",
     "text": [
      "XGBoost Results\n",
      "{1: 0.9173217068886077, 2: 0.893420186294174, 3: 0.9117734216695828}\n"
     ]
    }
   ],
   "source": [
    "# XGBoost\n",
    "my_pipeline = make_pipeline(SimpleImputer(),XGBClassifier())\n",
    "my_pipeline.fit(train_X, train_y)\n",
    "preds_y = my_pipeline.predict(test_X)\n",
    "print(\"XGBoost Results\")\n",
    "print(multiclass_roc_dict(test_y, preds_y))"
   ]
  },
  {
   "cell_type": "code",
   "execution_count": 87,
   "metadata": {},
   "outputs": [
    {
     "name": "stdout",
     "output_type": "stream",
     "text": [
      "XGBoost Results with Parameter Tuning\n",
      "{1: 0.9062932148196515, 2: 0.880824982029597, 3: 0.8986778954211301}\n"
     ]
    }
   ],
   "source": [
    "# XGBoost with parameters tuning \n",
    "xgb_model = XGBClassifier(n_estimators=1000)\n",
    "xgb_model.fit(train_X_imputed, train_y, early_stopping_rounds=5, \n",
    "             eval_set=[(test_X_imputed, test_y)], verbose=False)\n",
    "preds_y = xgb_model.predict(test_X_imputed)\n",
    "print(\"XGBoost Results with Parameter Tuning\")\n",
    "print(multiclass_roc_dict(test_y, preds_y))"
   ]
  },
  {
   "cell_type": "code",
   "execution_count": 91,
   "metadata": {},
   "outputs": [
    {
     "name": "stdout",
     "output_type": "stream",
     "text": [
      "Classification Report :               precision    recall  f1-score   support\n",
      "\n",
      "           1       0.93      0.85      0.89      2059\n",
      "           2       0.84      0.92      0.88      2481\n",
      "           3       0.87      0.81      0.84       637\n",
      "\n",
      "   micro avg       0.88      0.88      0.88      5177\n",
      "   macro avg       0.88      0.86      0.87      5177\n",
      "weighted avg       0.88      0.88      0.88      5177\n",
      "\n"
     ]
    }
   ],
   "source": [
    "from sklearn.metrics import classification_report\n",
    "# XGBoost with parameters tuning \n",
    "xgb_model = XGBClassifier(n_estimators=1000)\n",
    "xgb_model.fit(train_X_imputed, train_y, early_stopping_rounds=5, \n",
    "             eval_set=[(test_X_imputed, test_y)], verbose=False)\n",
    "preds_y = xgb_model.predict(test_X_imputed)\n",
    "print(\"Classification Report : {}\".format(classification_report(test_y, preds_y, labels=[1, 2, 3])))"
   ]
  },
  {
   "cell_type": "markdown",
   "metadata": {},
   "source": [
    "### Code:\n",
    "    https://www.kaggle.com/akshita72/alzheimers-prediction"
   ]
  }
 ],
 "metadata": {
  "kernelspec": {
   "display_name": "Python 3",
   "language": "python",
   "name": "python3"
  },
  "language_info": {
   "codemirror_mode": {
    "name": "ipython",
    "version": 3
   },
   "file_extension": ".py",
   "mimetype": "text/x-python",
   "name": "python",
   "nbconvert_exporter": "python",
   "pygments_lexer": "ipython3",
   "version": "3.7.1"
  }
 },
 "nbformat": 4,
 "nbformat_minor": 2
}
